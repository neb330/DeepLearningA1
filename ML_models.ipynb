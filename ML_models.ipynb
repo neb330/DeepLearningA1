{
 "cells": [
  {
   "cell_type": "code",
   "execution_count": 54,
   "metadata": {
    "collapsed": false
   },
   "outputs": [],
   "source": [
    "import pandas as pd\n",
    "import numpy as np\n",
    "from sklearn.metrics import mean_squared_error\n",
    "from sklearn.ensemble import RandomForestClassifier\n",
    "from argparse import ArgumentParser\n",
    "from sklearn.preprocessing import MinMaxScaler\n",
    "from sklearn.svm import SVC\n",
    "from sklearn.cluster import KMeans\n",
    "import matplotlib.pyplot as plt\n",
    "from sklearn import preprocessing\n",
    "import random\n",
    "import seaborn as sns\n",
    "from sklearn.manifold import TSNE\n",
    "import astropy.io.fits as fits\n",
    "\n",
    "%matplotlib inline\n",
    "\n"
   ]
  },
  {
   "cell_type": "code",
   "execution_count": 5,
   "metadata": {
    "collapsed": false
   },
   "outputs": [
    {
     "name": "stdout",
     "output_type": "stream",
     "text": [
      "\u001b[34mprocessed\u001b[m\u001b[m/         total_data.p       vae_encodings.tr   vae_targets.val\r\n",
      "\u001b[34mraw\u001b[m\u001b[m/               train_labeled.p    vae_encodings.val  validation.p\r\n",
      "test.p             train_unlabeled.p  vae_targets.tr\r\n"
     ]
    }
   ],
   "source": [
    "ls DeepLearningA1/data"
   ]
  },
  {
   "cell_type": "code",
   "execution_count": 6,
   "metadata": {
    "collapsed": true
   },
   "outputs": [],
   "source": [
    "def load_data():\n",
    "    data_train = list(open('DeepLearningA1/data/vae_encodings.tr').readlines())\n",
    "    targets_train = list(open('DeepLearningA1/data/vae_targets.tr').readlines())\n",
    "    data_val = list(open('DeepLearningA1/data/vae_encodings.val').readlines())\n",
    "    targets_val = list(open('DeepLearningA1/data/vae_targets.val').readlines())\n",
    "\n",
    "    X_train = []\n",
    "    y_train = []\n",
    "    X_val = []\n",
    "    y_val = []\n",
    "    for vec, label in zip(data_train, targets_train):\n",
    "        vec = vec.strip().split()\n",
    "        vec = [float(num) for num in vec]\n",
    "        label = label.strip()\n",
    "        X_train.append(vec)\n",
    "        y_train.append(float(label))\n",
    "    for vec, label in zip(data_val, targets_val):\n",
    "        vec = vec.strip().split()\n",
    "        vec = [float(num) for num in vec]\n",
    "        label = label.strip()\n",
    "        X_val.append(vec)\n",
    "        y_val.append(float(label))\n",
    "\n",
    "    return [np.array(X_train), np.array(y_train), np.array(X_val), np.array(y_val)]"
   ]
  },
  {
   "cell_type": "code",
   "execution_count": 57,
   "metadata": {
    "collapsed": false
   },
   "outputs": [],
   "source": [
    "X_train, y_train, X_val, y_val = load_data()\n",
    "min_max_scaler = MinMaxScaler()\n",
    "X_train = min_max_scaler.fit_transform(X_train)\n",
    "#X_val = min_max_scaler.fit_transform(X_val)"
   ]
  },
  {
   "cell_type": "code",
   "execution_count": 23,
   "metadata": {
    "collapsed": true
   },
   "outputs": [],
   "source": [
    "RF_reg_final = RandomForestClassifier()\n",
    "RF_reg_final.fit(X_train, y_train)\n",
    "predicted = RF_reg_final.predict(X_val)"
   ]
  },
  {
   "cell_type": "code",
   "execution_count": 24,
   "metadata": {
    "collapsed": false
   },
   "outputs": [
    {
     "data": {
      "text/plain": [
       "6597"
      ]
     },
     "execution_count": 24,
     "metadata": {},
     "output_type": "execute_result"
    }
   ],
   "source": [
    "sum(predicted[i] == y_val[i] for i in range(len(y_val)))/len(y_val)"
   ]
  },
  {
   "cell_type": "code",
   "execution_count": 59,
   "metadata": {
    "collapsed": false
   },
   "outputs": [
    {
     "data": {
      "text/plain": [
       "80.459999999999994"
      ]
     },
     "execution_count": 59,
     "metadata": {},
     "output_type": "execute_result"
    }
   ],
   "source": [
    "svm = SVC()\n",
    "svm.fit(X_train, y_train)\n",
    "predicted = svm.predict(X_val)\n",
    "100*sum(predicted[i] == y_val[i] for i in range(len(y_val)))/len(y_val)"
   ]
  },
  {
   "cell_type": "code",
   "execution_count": 46,
   "metadata": {
    "collapsed": false
   },
   "outputs": [],
   "source": [
    "kmeans = KMeans(n_clusters=10, random_state=0).fit(X_train)\n",
    "#sum(kmeans.labels_[i] == y_train[i] for i in range(len(y_train))) / float(len(y_train))"
   ]
  },
  {
   "cell_type": "code",
   "execution_count": 52,
   "metadata": {
    "collapsed": true
   },
   "outputs": [],
   "source": [
    "def cluster(num_clusters, X, normalize = False):\n",
    "    \n",
    "    if normalize:\n",
    "        X = preprocessing.normalize(X)\n",
    "    \n",
    "    kmeans = KMeans(n_clusters=num_clusters, random_state=0, max_iter = 10000).fit(X)\n",
    "    \n",
    "    tsne = TSNE(perplexity=30, n_components=2, init='pca')\n",
    "    low_dim = tsne.fit_transform(X[:500, :])\n",
    "    \n",
    "    plot = []\n",
    "    for i in range(low_dim.shape[0]):\n",
    "        plot.append(low_dim[i,:])\n",
    "    plot_assignments = kmeans.labels_[:low_dim.shape[0]]\n",
    "    total_assignments = kmeans.labels_\n",
    "    clusters = [[] for i in range(num_clusters)]\n",
    "    for i, (item, clustNum) in enumerate(zip(plot,plot_assignments)):\n",
    "        clusters[clustNum].append(item)  \n",
    "    colors = list(\"rcbgmyk\")\n",
    "    plt.figure(figsize=(6,5))\n",
    "    for (i,cluster) in enumerate(clusters):\n",
    "        plt.scatter([item[0] for item in cluster],[item[1] for item in cluster], color=colors[i % len(colors)], label = (\"Cluster %d\" %(i+1)))        \n",
    "    plt.title(\"MNIST With %d Clusters\" % num_clusters, fontsize = 14)\n",
    "    #bbox_to_anchor=(1.05, 1),loc=2, borderaxespad=0., \n",
    "    plt.legend(fontsize = 12, markerscale = 2, frameon = True, shadow = True)\n",
    "    plt.show()\n"
   ]
  },
  {
   "cell_type": "code",
   "execution_count": 55,
   "metadata": {
    "collapsed": false
   },
   "outputs": [
    {
     "data": {
      "image/png": "[encoded data removed]",
      "text/plain": [
       "<matplotlib.figure.Figure at 0x1170f4a20>"
      ]
     },
     "metadata": {},
     "output_type": "display_data"
    }
   ],
   "source": [
    "cluster(10, X_train)"
   ]
  },
  {
   "cell_type": "code",
   "execution_count": null,
   "metadata": {
    "collapsed": true
   },
   "outputs": [],
   "source": []
  }
 ],
 "metadata": {
  "kernelspec": {
   "display_name": "Python [Root]",
   "language": "python",
   "name": "Python [Root]"
  },
  "language_info": {
   "codemirror_mode": {
    "name": "ipython",
    "version": 3
   },
   "file_extension": ".py",
   "mimetype": "text/x-python",
   "name": "python",
   "nbconvert_exporter": "python",
   "pygments_lexer": "ipython3",
   "version": "3.5.2"
  }
 },
 "nbformat": 4,
 "nbformat_minor": 0
}
